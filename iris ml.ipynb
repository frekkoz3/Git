{
 "cells": [
  {
   "cell_type": "markdown",
   "metadata": {},
   "source": [
    "# IRIS PROJECT\n",
    "nel notebook di oggi creiamo un modello keras che predice la varietà di iris (**Virginica, Versicolor, Setosa**) da quattro semplici caratteristiche:\n",
    "- lunghezza sepalo\n",
    "- larghezza sepalo\n",
    "- lunghezza petalo\n",
    "- larghezza petalo"
   ]
  },
  {
   "cell_type": "code",
   "execution_count": 416,
   "metadata": {},
   "outputs": [],
   "source": [
    "# importiamo le librerie necessarie \n",
    "import tensorflow as tf\n",
    "import keras\n",
    "import pandas as pd\n",
    "import numpy as np"
   ]
  },
  {
   "cell_type": "code",
   "execution_count": 417,
   "metadata": {},
   "outputs": [],
   "source": [
    "# importiamo il dataset degli iris da cui ricaveremo i dati\n",
    "ds = pd.read_csv(\"iris dataset/iris.csv\")"
   ]
  },
  {
   "cell_type": "code",
   "execution_count": 418,
   "metadata": {},
   "outputs": [
    {
     "data": {
      "text/html": [
       "<div>\n",
       "<style scoped>\n",
       "    .dataframe tbody tr th:only-of-type {\n",
       "        vertical-align: middle;\n",
       "    }\n",
       "\n",
       "    .dataframe tbody tr th {\n",
       "        vertical-align: top;\n",
       "    }\n",
       "\n",
       "    .dataframe thead th {\n",
       "        text-align: right;\n",
       "    }\n",
       "</style>\n",
       "<table border=\"1\" class=\"dataframe\">\n",
       "  <thead>\n",
       "    <tr style=\"text-align: right;\">\n",
       "      <th></th>\n",
       "      <th>sepal.length</th>\n",
       "      <th>sepal.width</th>\n",
       "      <th>petal.length</th>\n",
       "      <th>petal.width</th>\n",
       "      <th>variety</th>\n",
       "    </tr>\n",
       "  </thead>\n",
       "  <tbody>\n",
       "    <tr>\n",
       "      <th>0</th>\n",
       "      <td>5.1</td>\n",
       "      <td>3.5</td>\n",
       "      <td>1.4</td>\n",
       "      <td>0.2</td>\n",
       "      <td>Setosa</td>\n",
       "    </tr>\n",
       "    <tr>\n",
       "      <th>1</th>\n",
       "      <td>4.9</td>\n",
       "      <td>3.0</td>\n",
       "      <td>1.4</td>\n",
       "      <td>0.2</td>\n",
       "      <td>Setosa</td>\n",
       "    </tr>\n",
       "    <tr>\n",
       "      <th>2</th>\n",
       "      <td>4.7</td>\n",
       "      <td>3.2</td>\n",
       "      <td>1.3</td>\n",
       "      <td>0.2</td>\n",
       "      <td>Setosa</td>\n",
       "    </tr>\n",
       "    <tr>\n",
       "      <th>3</th>\n",
       "      <td>4.6</td>\n",
       "      <td>3.1</td>\n",
       "      <td>1.5</td>\n",
       "      <td>0.2</td>\n",
       "      <td>Setosa</td>\n",
       "    </tr>\n",
       "    <tr>\n",
       "      <th>4</th>\n",
       "      <td>5.0</td>\n",
       "      <td>3.6</td>\n",
       "      <td>1.4</td>\n",
       "      <td>0.2</td>\n",
       "      <td>Setosa</td>\n",
       "    </tr>\n",
       "  </tbody>\n",
       "</table>\n",
       "</div>"
      ],
      "text/plain": [
       "   sepal.length  sepal.width  petal.length  petal.width variety\n",
       "0           5.1          3.5           1.4          0.2  Setosa\n",
       "1           4.9          3.0           1.4          0.2  Setosa\n",
       "2           4.7          3.2           1.3          0.2  Setosa\n",
       "3           4.6          3.1           1.5          0.2  Setosa\n",
       "4           5.0          3.6           1.4          0.2  Setosa"
      ]
     },
     "execution_count": 418,
     "metadata": {},
     "output_type": "execute_result"
    }
   ],
   "source": [
    "# visualizziamone la testa\n",
    "ds.head()"
   ]
  },
  {
   "cell_type": "code",
   "execution_count": 419,
   "metadata": {},
   "outputs": [
    {
     "data": {
      "text/plain": [
       "(150, 5)"
      ]
     },
     "execution_count": 419,
     "metadata": {},
     "output_type": "execute_result"
    }
   ],
   "source": [
    "# visualizziamone la dimensione\n",
    "ds.shape"
   ]
  },
  {
   "cell_type": "code",
   "execution_count": 420,
   "metadata": {},
   "outputs": [],
   "source": [
    "# rimappo le varietà in modo tale che anziché avere una colonna che indica il tipo abbiamo tre colonne che indicano se\n",
    "# la riga i-esima appartiene al tipo Virginica, Versicolor o Setosa\n",
    "varieta = {\"Virginica\" : (1, 0 , 0), \"Versicolor\" : (0, 1, 0), \"Setosa\" : (0, 0, 1)}\n",
    "ds[\"variety\"] = ds[\"variety\"]. map(varieta)\n",
    "n_d = pd.DataFrame(ds[\"variety\"].tolist(), columns=varieta.keys())\n",
    "del ds[\"variety\"] # rimuoviamo la colonna variety\n",
    "ds = pd.concat([ds, n_d], axis = 1) # aggiungiamo le tre nuove colonne"
   ]
  },
  {
   "cell_type": "code",
   "execution_count": 421,
   "metadata": {},
   "outputs": [
    {
     "data": {
      "text/html": [
       "<div>\n",
       "<style scoped>\n",
       "    .dataframe tbody tr th:only-of-type {\n",
       "        vertical-align: middle;\n",
       "    }\n",
       "\n",
       "    .dataframe tbody tr th {\n",
       "        vertical-align: top;\n",
       "    }\n",
       "\n",
       "    .dataframe thead th {\n",
       "        text-align: right;\n",
       "    }\n",
       "</style>\n",
       "<table border=\"1\" class=\"dataframe\">\n",
       "  <thead>\n",
       "    <tr style=\"text-align: right;\">\n",
       "      <th></th>\n",
       "      <th>sepal.length</th>\n",
       "      <th>sepal.width</th>\n",
       "      <th>petal.length</th>\n",
       "      <th>petal.width</th>\n",
       "      <th>Virginica</th>\n",
       "      <th>Versicolor</th>\n",
       "      <th>Setosa</th>\n",
       "    </tr>\n",
       "  </thead>\n",
       "  <tbody>\n",
       "    <tr>\n",
       "      <th>0</th>\n",
       "      <td>5.1</td>\n",
       "      <td>3.5</td>\n",
       "      <td>1.4</td>\n",
       "      <td>0.2</td>\n",
       "      <td>0</td>\n",
       "      <td>0</td>\n",
       "      <td>1</td>\n",
       "    </tr>\n",
       "    <tr>\n",
       "      <th>1</th>\n",
       "      <td>4.9</td>\n",
       "      <td>3.0</td>\n",
       "      <td>1.4</td>\n",
       "      <td>0.2</td>\n",
       "      <td>0</td>\n",
       "      <td>0</td>\n",
       "      <td>1</td>\n",
       "    </tr>\n",
       "    <tr>\n",
       "      <th>2</th>\n",
       "      <td>4.7</td>\n",
       "      <td>3.2</td>\n",
       "      <td>1.3</td>\n",
       "      <td>0.2</td>\n",
       "      <td>0</td>\n",
       "      <td>0</td>\n",
       "      <td>1</td>\n",
       "    </tr>\n",
       "    <tr>\n",
       "      <th>3</th>\n",
       "      <td>4.6</td>\n",
       "      <td>3.1</td>\n",
       "      <td>1.5</td>\n",
       "      <td>0.2</td>\n",
       "      <td>0</td>\n",
       "      <td>0</td>\n",
       "      <td>1</td>\n",
       "    </tr>\n",
       "    <tr>\n",
       "      <th>4</th>\n",
       "      <td>5.0</td>\n",
       "      <td>3.6</td>\n",
       "      <td>1.4</td>\n",
       "      <td>0.2</td>\n",
       "      <td>0</td>\n",
       "      <td>0</td>\n",
       "      <td>1</td>\n",
       "    </tr>\n",
       "  </tbody>\n",
       "</table>\n",
       "</div>"
      ],
      "text/plain": [
       "   sepal.length  sepal.width  petal.length  petal.width  Virginica  \\\n",
       "0           5.1          3.5           1.4          0.2          0   \n",
       "1           4.9          3.0           1.4          0.2          0   \n",
       "2           4.7          3.2           1.3          0.2          0   \n",
       "3           4.6          3.1           1.5          0.2          0   \n",
       "4           5.0          3.6           1.4          0.2          0   \n",
       "\n",
       "   Versicolor  Setosa  \n",
       "0           0       1  \n",
       "1           0       1  \n",
       "2           0       1  \n",
       "3           0       1  \n",
       "4           0       1  "
      ]
     },
     "execution_count": 421,
     "metadata": {},
     "output_type": "execute_result"
    }
   ],
   "source": [
    "# visualizziamo come è cambiato il dataset\n",
    "ds.head()"
   ]
  },
  {
   "cell_type": "code",
   "execution_count": 422,
   "metadata": {},
   "outputs": [],
   "source": [
    "from sklearn.model_selection import train_test_split"
   ]
  },
  {
   "cell_type": "code",
   "execution_count": 423,
   "metadata": {},
   "outputs": [],
   "source": [
    "# splittiamo il data set in parte di training ed in parte di testing\n",
    "train, test = train_test_split(ds, test_size= 0.3)"
   ]
  },
  {
   "cell_type": "code",
   "execution_count": 424,
   "metadata": {},
   "outputs": [
    {
     "data": {
      "text/html": [
       "<div>\n",
       "<style scoped>\n",
       "    .dataframe tbody tr th:only-of-type {\n",
       "        vertical-align: middle;\n",
       "    }\n",
       "\n",
       "    .dataframe tbody tr th {\n",
       "        vertical-align: top;\n",
       "    }\n",
       "\n",
       "    .dataframe thead th {\n",
       "        text-align: right;\n",
       "    }\n",
       "</style>\n",
       "<table border=\"1\" class=\"dataframe\">\n",
       "  <thead>\n",
       "    <tr style=\"text-align: right;\">\n",
       "      <th></th>\n",
       "      <th>sepal.length</th>\n",
       "      <th>sepal.width</th>\n",
       "      <th>petal.length</th>\n",
       "      <th>petal.width</th>\n",
       "      <th>Virginica</th>\n",
       "      <th>Versicolor</th>\n",
       "      <th>Setosa</th>\n",
       "    </tr>\n",
       "  </thead>\n",
       "  <tbody>\n",
       "    <tr>\n",
       "      <th>83</th>\n",
       "      <td>6.0</td>\n",
       "      <td>2.7</td>\n",
       "      <td>5.1</td>\n",
       "      <td>1.6</td>\n",
       "      <td>0</td>\n",
       "      <td>1</td>\n",
       "      <td>0</td>\n",
       "    </tr>\n",
       "    <tr>\n",
       "      <th>22</th>\n",
       "      <td>4.6</td>\n",
       "      <td>3.6</td>\n",
       "      <td>1.0</td>\n",
       "      <td>0.2</td>\n",
       "      <td>0</td>\n",
       "      <td>0</td>\n",
       "      <td>1</td>\n",
       "    </tr>\n",
       "    <tr>\n",
       "      <th>103</th>\n",
       "      <td>6.3</td>\n",
       "      <td>2.9</td>\n",
       "      <td>5.6</td>\n",
       "      <td>1.8</td>\n",
       "      <td>1</td>\n",
       "      <td>0</td>\n",
       "      <td>0</td>\n",
       "    </tr>\n",
       "    <tr>\n",
       "      <th>35</th>\n",
       "      <td>5.0</td>\n",
       "      <td>3.2</td>\n",
       "      <td>1.2</td>\n",
       "      <td>0.2</td>\n",
       "      <td>0</td>\n",
       "      <td>0</td>\n",
       "      <td>1</td>\n",
       "    </tr>\n",
       "    <tr>\n",
       "      <th>106</th>\n",
       "      <td>4.9</td>\n",
       "      <td>2.5</td>\n",
       "      <td>4.5</td>\n",
       "      <td>1.7</td>\n",
       "      <td>1</td>\n",
       "      <td>0</td>\n",
       "      <td>0</td>\n",
       "    </tr>\n",
       "  </tbody>\n",
       "</table>\n",
       "</div>"
      ],
      "text/plain": [
       "     sepal.length  sepal.width  petal.length  petal.width  Virginica  \\\n",
       "83            6.0          2.7           5.1          1.6          0   \n",
       "22            4.6          3.6           1.0          0.2          0   \n",
       "103           6.3          2.9           5.6          1.8          1   \n",
       "35            5.0          3.2           1.2          0.2          0   \n",
       "106           4.9          2.5           4.5          1.7          1   \n",
       "\n",
       "     Versicolor  Setosa  \n",
       "83            1       0  \n",
       "22            0       1  \n",
       "103           0       0  \n",
       "35            0       1  \n",
       "106           0       0  "
      ]
     },
     "execution_count": 424,
     "metadata": {},
     "output_type": "execute_result"
    }
   ],
   "source": [
    "# visualizziamo la testa della parte di training\n",
    "train.head()"
   ]
  },
  {
   "cell_type": "code",
   "execution_count": 425,
   "metadata": {},
   "outputs": [
    {
     "data": {
      "text/html": [
       "<div>\n",
       "<style scoped>\n",
       "    .dataframe tbody tr th:only-of-type {\n",
       "        vertical-align: middle;\n",
       "    }\n",
       "\n",
       "    .dataframe tbody tr th {\n",
       "        vertical-align: top;\n",
       "    }\n",
       "\n",
       "    .dataframe thead th {\n",
       "        text-align: right;\n",
       "    }\n",
       "</style>\n",
       "<table border=\"1\" class=\"dataframe\">\n",
       "  <thead>\n",
       "    <tr style=\"text-align: right;\">\n",
       "      <th></th>\n",
       "      <th>sepal.length</th>\n",
       "      <th>sepal.width</th>\n",
       "      <th>petal.length</th>\n",
       "      <th>petal.width</th>\n",
       "      <th>Virginica</th>\n",
       "      <th>Versicolor</th>\n",
       "      <th>Setosa</th>\n",
       "    </tr>\n",
       "  </thead>\n",
       "  <tbody>\n",
       "    <tr>\n",
       "      <th>36</th>\n",
       "      <td>5.5</td>\n",
       "      <td>3.5</td>\n",
       "      <td>1.3</td>\n",
       "      <td>0.2</td>\n",
       "      <td>0</td>\n",
       "      <td>0</td>\n",
       "      <td>1</td>\n",
       "    </tr>\n",
       "    <tr>\n",
       "      <th>38</th>\n",
       "      <td>4.4</td>\n",
       "      <td>3.0</td>\n",
       "      <td>1.3</td>\n",
       "      <td>0.2</td>\n",
       "      <td>0</td>\n",
       "      <td>0</td>\n",
       "      <td>1</td>\n",
       "    </tr>\n",
       "    <tr>\n",
       "      <th>46</th>\n",
       "      <td>5.1</td>\n",
       "      <td>3.8</td>\n",
       "      <td>1.6</td>\n",
       "      <td>0.2</td>\n",
       "      <td>0</td>\n",
       "      <td>0</td>\n",
       "      <td>1</td>\n",
       "    </tr>\n",
       "    <tr>\n",
       "      <th>96</th>\n",
       "      <td>5.7</td>\n",
       "      <td>2.9</td>\n",
       "      <td>4.2</td>\n",
       "      <td>1.3</td>\n",
       "      <td>0</td>\n",
       "      <td>1</td>\n",
       "      <td>0</td>\n",
       "    </tr>\n",
       "    <tr>\n",
       "      <th>42</th>\n",
       "      <td>4.4</td>\n",
       "      <td>3.2</td>\n",
       "      <td>1.3</td>\n",
       "      <td>0.2</td>\n",
       "      <td>0</td>\n",
       "      <td>0</td>\n",
       "      <td>1</td>\n",
       "    </tr>\n",
       "  </tbody>\n",
       "</table>\n",
       "</div>"
      ],
      "text/plain": [
       "    sepal.length  sepal.width  petal.length  petal.width  Virginica  \\\n",
       "36           5.5          3.5           1.3          0.2          0   \n",
       "38           4.4          3.0           1.3          0.2          0   \n",
       "46           5.1          3.8           1.6          0.2          0   \n",
       "96           5.7          2.9           4.2          1.3          0   \n",
       "42           4.4          3.2           1.3          0.2          0   \n",
       "\n",
       "    Versicolor  Setosa  \n",
       "36           0       1  \n",
       "38           0       1  \n",
       "46           0       1  \n",
       "96           1       0  \n",
       "42           0       1  "
      ]
     },
     "execution_count": 425,
     "metadata": {},
     "output_type": "execute_result"
    }
   ],
   "source": [
    "# visualizziamo la testa della parte di testing\n",
    "test.head()"
   ]
  },
  {
   "cell_type": "code",
   "execution_count": 426,
   "metadata": {},
   "outputs": [],
   "source": [
    "# costruiamo il modello : usiamo la classe Model della libreria keras\n",
    "inputs = keras.Input(shape=(4,)) # gli input sono 4\n",
    "x = keras.layers.Dense(64, activation=\"relu\")(inputs) # inseriamo due layer densi di 64 e 32 nodi ciascuni con relu come funzione d'attivazione\n",
    "y = keras.layers.Dense(32, activation=\"relu\")(x)\n",
    "outputs = keras.layers.Dense(3, activation=\"softmax\")(y) # l'output finale è semplicemente un layer probabilistico a 3 nodi \n",
    "iris_model = keras.Model(inputs=inputs, outputs=outputs)\n",
    "iris_model.compile(optimizer=keras.optimizers.Adam(), loss= keras.losses.CategoricalCrossentropy() , metrics=[keras.metrics.CategoricalAccuracy()])\n",
    "# dobbiamo settare la loss e la accuracy usando le relative categorical_ poiché stiamo usando più di 2 classi"
   ]
  },
  {
   "cell_type": "code",
   "execution_count": 427,
   "metadata": {},
   "outputs": [],
   "source": [
    "# suddividiamo il training ed il testing set in base a dominio ed immagine\n",
    "x = train.iloc[ : , : 4]\n",
    "y = train.iloc[ : , 4 :]\n",
    "x_t = test.iloc[ : , : 4]\n",
    "y_t = test.iloc[ : , 4 :]"
   ]
  },
  {
   "cell_type": "code",
   "execution_count": 428,
   "metadata": {},
   "outputs": [
    {
     "name": "stdout",
     "output_type": "stream",
     "text": [
      "Epoch 1/25\n"
     ]
    },
    {
     "name": "stdout",
     "output_type": "stream",
     "text": [
      "11/11 - 1s - 133ms/step - categorical_accuracy: 0.3714 - loss: 0.9914 - val_categorical_accuracy: 0.2444 - val_loss: 0.9468\n",
      "Epoch 2/25\n",
      "11/11 - 0s - 5ms/step - categorical_accuracy: 0.6952 - loss: 0.8616 - val_categorical_accuracy: 0.7333 - val_loss: 0.8149\n",
      "Epoch 3/25\n",
      "11/11 - 0s - 5ms/step - categorical_accuracy: 0.7619 - loss: 0.7612 - val_categorical_accuracy: 0.6444 - val_loss: 0.7327\n",
      "Epoch 4/25\n",
      "11/11 - 0s - 5ms/step - categorical_accuracy: 0.6762 - loss: 0.6863 - val_categorical_accuracy: 0.6444 - val_loss: 0.6617\n",
      "Epoch 5/25\n",
      "11/11 - 0s - 5ms/step - categorical_accuracy: 0.6762 - loss: 0.6072 - val_categorical_accuracy: 0.6667 - val_loss: 0.5842\n",
      "Epoch 6/25\n",
      "11/11 - 0s - 5ms/step - categorical_accuracy: 0.8571 - loss: 0.5276 - val_categorical_accuracy: 0.9111 - val_loss: 0.4908\n",
      "Epoch 7/25\n",
      "11/11 - 0s - 5ms/step - categorical_accuracy: 0.9619 - loss: 0.4742 - val_categorical_accuracy: 0.8667 - val_loss: 0.4465\n",
      "Epoch 8/25\n",
      "11/11 - 0s - 5ms/step - categorical_accuracy: 0.9429 - loss: 0.4231 - val_categorical_accuracy: 0.8667 - val_loss: 0.4038\n",
      "Epoch 9/25\n",
      "11/11 - 0s - 5ms/step - categorical_accuracy: 0.9429 - loss: 0.3754 - val_categorical_accuracy: 0.8667 - val_loss: 0.3711\n",
      "Epoch 10/25\n",
      "11/11 - 0s - 5ms/step - categorical_accuracy: 0.9429 - loss: 0.3470 - val_categorical_accuracy: 0.9556 - val_loss: 0.3201\n",
      "Epoch 11/25\n",
      "11/11 - 0s - 5ms/step - categorical_accuracy: 0.9429 - loss: 0.3175 - val_categorical_accuracy: 0.8889 - val_loss: 0.3179\n",
      "Epoch 12/25\n",
      "11/11 - 0s - 5ms/step - categorical_accuracy: 0.9714 - loss: 0.2894 - val_categorical_accuracy: 0.9556 - val_loss: 0.2833\n",
      "Epoch 13/25\n",
      "11/11 - 0s - 7ms/step - categorical_accuracy: 0.9714 - loss: 0.2730 - val_categorical_accuracy: 0.9556 - val_loss: 0.2693\n",
      "Epoch 14/25\n",
      "11/11 - 0s - 5ms/step - categorical_accuracy: 0.9714 - loss: 0.2531 - val_categorical_accuracy: 0.9556 - val_loss: 0.2485\n",
      "Epoch 15/25\n",
      "11/11 - 0s - 5ms/step - categorical_accuracy: 0.9810 - loss: 0.2375 - val_categorical_accuracy: 0.9556 - val_loss: 0.2349\n",
      "Epoch 16/25\n",
      "11/11 - 0s - 4ms/step - categorical_accuracy: 0.9714 - loss: 0.2262 - val_categorical_accuracy: 0.9556 - val_loss: 0.2308\n",
      "Epoch 17/25\n",
      "11/11 - 0s - 5ms/step - categorical_accuracy: 0.9810 - loss: 0.2121 - val_categorical_accuracy: 0.9556 - val_loss: 0.2097\n",
      "Epoch 18/25\n",
      "11/11 - 0s - 5ms/step - categorical_accuracy: 0.9619 - loss: 0.2099 - val_categorical_accuracy: 0.9556 - val_loss: 0.2063\n",
      "Epoch 19/25\n",
      "11/11 - 0s - 4ms/step - categorical_accuracy: 0.9810 - loss: 0.1897 - val_categorical_accuracy: 0.9556 - val_loss: 0.1958\n",
      "Epoch 20/25\n",
      "11/11 - 0s - 4ms/step - categorical_accuracy: 0.9714 - loss: 0.1799 - val_categorical_accuracy: 0.9556 - val_loss: 0.1908\n",
      "Epoch 21/25\n",
      "11/11 - 0s - 4ms/step - categorical_accuracy: 0.9810 - loss: 0.1695 - val_categorical_accuracy: 0.9556 - val_loss: 0.1751\n",
      "Epoch 22/25\n",
      "11/11 - 0s - 5ms/step - categorical_accuracy: 0.9810 - loss: 0.1593 - val_categorical_accuracy: 0.9556 - val_loss: 0.1753\n",
      "Epoch 23/25\n",
      "11/11 - 0s - 6ms/step - categorical_accuracy: 0.9524 - loss: 0.1627 - val_categorical_accuracy: 0.9778 - val_loss: 0.1563\n",
      "Epoch 24/25\n",
      "11/11 - 0s - 5ms/step - categorical_accuracy: 0.9714 - loss: 0.1562 - val_categorical_accuracy: 0.9556 - val_loss: 0.1564\n",
      "Epoch 25/25\n",
      "11/11 - 0s - 6ms/step - categorical_accuracy: 0.9810 - loss: 0.1407 - val_categorical_accuracy: 0.9556 - val_loss: 0.1474\n"
     ]
    },
    {
     "data": {
      "text/plain": [
       "<keras.src.callbacks.history.History at 0x2414cbda060>"
      ]
     },
     "execution_count": 428,
     "metadata": {},
     "output_type": "execute_result"
    }
   ],
   "source": [
    "# alleniamo il modello\n",
    "iris_model.fit(x, y, batch_size=10, epochs = 25, validation_data = (x_t, y_t), verbose = 2)"
   ]
  },
  {
   "cell_type": "code",
   "execution_count": 433,
   "metadata": {},
   "outputs": [
    {
     "data": {
      "text/plain": [
       "{'categorical_accuracy': 0.9555555582046509, 'loss': 0.1473533809185028}"
      ]
     },
     "execution_count": 433,
     "metadata": {},
     "output_type": "execute_result"
    }
   ],
   "source": [
    "# visualizziamo la accuracy finale facendo il testing (in realtà lo stiamo rieseguendo)\n",
    "iris_model.evaluate(x_t, y_t, batch_size=10, return_dict = True, verbose = 0)"
   ]
  }
 ],
 "metadata": {
  "kernelspec": {
   "display_name": "Python 3",
   "language": "python",
   "name": "python3"
  },
  "language_info": {
   "codemirror_mode": {
    "name": "ipython",
    "version": 3
   },
   "file_extension": ".py",
   "mimetype": "text/x-python",
   "name": "python",
   "nbconvert_exporter": "python",
   "pygments_lexer": "ipython3",
   "version": "3.12.3"
  }
 },
 "nbformat": 4,
 "nbformat_minor": 2
}
